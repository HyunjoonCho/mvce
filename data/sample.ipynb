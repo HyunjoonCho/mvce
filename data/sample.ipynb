{
 "cells": [
  {
   "cell_type": "markdown",
   "id": "d3fec51d",
   "metadata": {
    "vscode": {
     "languageId": "plaintext"
    }
   },
   "source": [
    "# Sample 300 instances from APPS Test Dataset"
   ]
  },
  {
   "cell_type": "code",
   "execution_count": null,
   "id": "b02d05cb",
   "metadata": {},
   "outputs": [],
   "source": [
    "import json \n",
    "\n",
    "path = 'test.jsonl' # downloaded from https://huggingface.co/datasets/codeparrot/apps \n",
    "with open(path) as f:\n",
    "    data = [json.loads(line) for line in f]"
   ]
  },
  {
   "cell_type": "code",
   "execution_count": 7,
   "id": "c88e7dab",
   "metadata": {},
   "outputs": [],
   "source": [
    "import random\n",
    "\n",
    "def sample_instances_of_(difficulty, dataset, N=100):\n",
    "    filtered_dataset = filter(lambda row: row['difficulty'] == difficulty, dataset)\n",
    "    return random.sample(list(filtered_dataset), N)"
   ]
  },
  {
   "cell_type": "code",
   "execution_count": 10,
   "id": "118019c5",
   "metadata": {},
   "outputs": [],
   "source": [
    "introductory = sample_instances_of_('introductory', data)\n",
    "interview = sample_instances_of_('interview', data)\n",
    "competition = sample_instances_of_('competition', data)"
   ]
  },
  {
   "cell_type": "code",
   "execution_count": 12,
   "id": "1d9754ea",
   "metadata": {},
   "outputs": [],
   "source": [
    "filtered_path = 'APPS.jsonl'\n",
    "\n",
    "with open(filtered_path, 'w') as f:\n",
    "    for item in introductory + interview + competition:\n",
    "        f.write(json.dumps(item) + '\\n')"
   ]
  }
 ],
 "metadata": {
  "kernelspec": {
   "display_name": "base",
   "language": "python",
   "name": "python3"
  },
  "language_info": {
   "codemirror_mode": {
    "name": "ipython",
    "version": 3
   },
   "file_extension": ".py",
   "mimetype": "text/x-python",
   "name": "python",
   "nbconvert_exporter": "python",
   "pygments_lexer": "ipython3",
   "version": "3.11.5"
  }
 },
 "nbformat": 4,
 "nbformat_minor": 5
}
