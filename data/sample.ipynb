{
 "cells": [
  {
   "cell_type": "markdown",
   "id": "d3fec51d",
   "metadata": {
    "vscode": {
     "languageId": "plaintext"
    }
   },
   "source": [
    "# Sample 300 instances from APPS Test Dataset"
   ]
  },
  {
   "cell_type": "code",
   "execution_count": 1,
   "id": "688b23e7",
   "metadata": {},
   "outputs": [],
   "source": [
    "import json\n",
    "import random"
   ]
  },
  {
   "cell_type": "code",
   "execution_count": null,
   "id": "b02d05cb",
   "metadata": {},
   "outputs": [],
   "source": [
    "path = 'test.jsonl' # downloaded from https://huggingface.co/datasets/codeparrot/apps \n",
    "with open(path) as f:\n",
    "    prompt_template = [json.loads(line) for line in f]"
   ]
  },
  {
   "cell_type": "code",
   "execution_count": null,
   "id": "c88e7dab",
   "metadata": {},
   "outputs": [],
   "source": [
    "def sample_instances_of_(difficulty, dataset, N=100):\n",
    "    filtered_dataset = filter(lambda row: row['difficulty'] == difficulty, dataset)\n",
    "    return random.sample(list(filtered_dataset), N)"
   ]
  },
  {
   "cell_type": "code",
   "execution_count": null,
   "id": "118019c5",
   "metadata": {},
   "outputs": [],
   "source": [
    "introductory = sample_instances_of_('introductory', prompt_template)\n",
    "interview = sample_instances_of_('interview', prompt_template)\n",
    "competition = sample_instances_of_('competition', prompt_template)"
   ]
  },
  {
   "cell_type": "code",
   "execution_count": 12,
   "id": "1d9754ea",
   "metadata": {},
   "outputs": [],
   "source": [
    "filtered_path = 'APPS.jsonl'\n",
    "\n",
    "with open(filtered_path, 'w') as f:\n",
    "    for item in introductory + interview + competition:\n",
    "        f.write(json.dumps(item) + '\\n')"
   ]
  },
  {
   "cell_type": "markdown",
   "id": "b6101be5",
   "metadata": {},
   "source": [
    "## Understanding Benchmarks"
   ]
  },
  {
   "cell_type": "code",
   "execution_count": 2,
   "id": "918c7c4e",
   "metadata": {},
   "outputs": [],
   "source": [
    "def read_jsonl(path):\n",
    "    with open(path) as f:\n",
    "        data = [json.loads(line) for line in f]\n",
    "    return data\n",
    "\n",
    "def print_single_sample(samples):\n",
    "    sample = samples[0]\n",
    "    print(sample.keys())\n",
    "    for key in sample:\n",
    "        print(f'>>>>>>{key}\\n{sample[key]}\\n')"
   ]
  },
  {
   "cell_type": "code",
   "execution_count": 3,
   "id": "1743ff85",
   "metadata": {},
   "outputs": [
    {
     "name": "stdout",
     "output_type": "stream",
     "text": [
      "dict_keys(['task_id', 'prompt', 'entry_point', 'canonical_solution', 'test'])\n",
      ">>>>>>task_id\n",
      "HumanEval/0\n",
      "\n",
      ">>>>>>prompt\n",
      "from typing import List\n",
      "\n",
      "\n",
      "def has_close_elements(numbers: List[float], threshold: float) -> bool:\n",
      "    \"\"\" Check if in given list of numbers, are any two numbers closer to each other than\n",
      "    given threshold.\n",
      "    >>> has_close_elements([1.0, 2.0, 3.0], 0.5)\n",
      "    False\n",
      "    >>> has_close_elements([1.0, 2.8, 3.0, 4.0, 5.0, 2.0], 0.3)\n",
      "    True\n",
      "    \"\"\"\n",
      "\n",
      "\n",
      ">>>>>>entry_point\n",
      "has_close_elements\n",
      "\n",
      ">>>>>>canonical_solution\n",
      "    for idx, elem in enumerate(numbers):\n",
      "        for idx2, elem2 in enumerate(numbers):\n",
      "            if idx != idx2:\n",
      "                distance = abs(elem - elem2)\n",
      "                if distance < threshold:\n",
      "                    return True\n",
      "\n",
      "    return False\n",
      "\n",
      "\n",
      ">>>>>>test\n",
      "\n",
      "\n",
      "METADATA = {\n",
      "    'author': 'jt',\n",
      "    'dataset': 'test'\n",
      "}\n",
      "\n",
      "\n",
      "def check(candidate):\n",
      "    assert candidate([1.0, 2.0, 3.9, 4.0, 5.0, 2.2], 0.3) == True\n",
      "    assert candidate([1.0, 2.0, 3.9, 4.0, 5.0, 2.2], 0.05) == False\n",
      "    assert candidate([1.0, 2.0, 5.9, 4.0, 5.0], 0.95) == True\n",
      "    assert candidate([1.0, 2.0, 5.9, 4.0, 5.0], 0.8) == False\n",
      "    assert candidate([1.0, 2.0, 3.0, 4.0, 5.0, 2.0], 0.1) == True\n",
      "    assert candidate([1.1, 2.2, 3.1, 4.1, 5.1], 1.0) == True\n",
      "    assert candidate([1.1, 2.2, 3.1, 4.1, 5.1], 0.5) == False\n",
      "\n",
      "\n",
      "\n"
     ]
    }
   ],
   "source": [
    "humaneval_path = 'HumanEval.jsonl'\n",
    "he_data = read_jsonl(humaneval_path)\n",
    "print_single_sample(he_data)"
   ]
  },
  {
   "cell_type": "code",
   "execution_count": 8,
   "id": "dc403107",
   "metadata": {},
   "outputs": [],
   "source": [
    "HE_base_prompt = '../prompt/HumanEval_base.txt'\n",
    "with open(HE_base_prompt) as f:\n",
    "    prompt_template = f.read()\n",
    "\n",
    "HE_prompts = dict()\n",
    "for problem in he_data:\n",
    "    id = problem['task_id']\n",
    "    prompt = problem['prompt']\n",
    "    HE_prompts[id] = prompt_template.format(problem=prompt)"
   ]
  },
  {
   "cell_type": "code",
   "execution_count": 10,
   "id": "d3331c6f",
   "metadata": {},
   "outputs": [],
   "source": [
    "with open('HumanEval_prompts.json', 'w') as f:\n",
    "    json.dump(HE_prompts, f, indent=4)"
   ]
  },
  {
   "cell_type": "code",
   "execution_count": 11,
   "id": "781c4fc8",
   "metadata": {},
   "outputs": [
    {
     "name": "stdout",
     "output_type": "stream",
     "text": [
      "dict_keys(['id', 'question', 'solutions', 'input_output', 'difficulty', 'url', 'starter_code'])\n",
      ">>>>>>id\n",
      "4693\n",
      "\n",
      ">>>>>>question\n",
      "You are given two integers A and B as the input. Output the value of A + B.\n",
      "However, if A + B is 10 or greater, output error instead.\n",
      "\n",
      "-----Constraints-----\n",
      " - A and B are integers.\n",
      " - 1 ≤ A, B ≤ 9\n",
      "\n",
      "-----Input-----\n",
      "Input is given from Standard Input in the following format:\n",
      "A B\n",
      "\n",
      "-----Output-----\n",
      "If A + B is 10 or greater, print the string error (case-sensitive); otherwise, print the value of A + B.\n",
      "\n",
      "-----Sample Input-----\n",
      "6 3\n",
      "\n",
      "-----Sample Output-----\n",
      "9\n",
      "\n",
      "\n",
      ">>>>>>solutions\n",
      "[\"# A - Restricted\\n# https://atcoder.jp/contests/abc063/tasks/abc063_a\\n\\nA, B = list(map(int, input().split()))\\n\\nresult = A + B\\nif result >= 10:\\n    print('error')\\nelse:\\n    print(result)\\n\", \"l = input().split()\\n\\nans = int(l[0]) + int(l[1])\\n\\nif 10 <= ans:\\n   print('error')\\nelse:\\n   print(ans)\", \"a, b = map(int, input().split())\\nif a+b >= 10:\\n  print(\\\"error\\\")\\nelse:\\n  print(a+b)\", \"a,b=map(int,input().split())\\nif (a+b)<=9:\\n    print(a+b)\\nelse:\\n    print(\\\"error\\\")\", \"a,b = map(int,input().split())\\nprint(a+b if a+b < 10 else 'error')\", \"def iroha():\\n    a, b = list(map(int, input().split()))\\n    \\n    ans = a+b\\n\\n    print((ans if ans < 10 else \\\"error\\\"))\\n\\n\\n\\ndef __starting_point():\\n    iroha()\\n\\n\\n__starting_point()\", \"a, b= map(int, input().split())\\n\\nif a+b<10:\\n  print(a+b)\\nelse:\\n  print('error')\", \"# 063a\\n\\nA, B = list(map(int, input().split()))\\n\\nif A + B >= 10:\\n    print('error')\\nelse:\\n    print((A + B))\\n\", \"A, B = map(int, input().split())\\nif A + B < 10:\\n    print(A + B)\\nelse:\\n    print('error')\", \"a,b=map(int,input().split())\\nif a+b>=10:\\n  print(\\\"error\\\")\\nelse:\\n  print(a+b)\", \"a, b=map(int, input().split())\\nif a+b<10:\\n    print(a+b)\\nelse:\\n    print(\\\"error\\\")\", \"a, b = map(int, input().split())\\n\\nresult = a + b\\nif result >= 10:\\n    print('error')\\nelse:\\n    print(result)\", \"a, b = map(int, input().split())\\nanswer = a + b\\nprint('error' if 10 <= answer else answer)\", \"A, B = map(int, input().split())\\n\\nif A + B >= 10:\\n    print('error')\\nelse:\\n    print(A + B)\", \"# \\u4e8c\\u3064\\u306e\\u6574\\u6570A,B\\u306e\\u548c 10\\u4ee5\\u4e0a\\u306a\\u3089error\\u3068\\u51fa\\u529b\\n\\nA, B = map(int, input().split())\\n\\nif A + B < 10:\\n    print(A + B)\\nelse:\\n    print('error')\", \"A, B = map(int,input().split())\\n\\nif A + B >= 10:\\n    print( \\\"error\\\" )\\nelse:\\n    print( A + B )\", \"a,b = map(int,input().split())\\nprint(a + b if a + b < 10 else \\\"error\\\")\", \"a,b = map(int,input().split())\\n\\nprint('error' if a+b >= 10 else a+b)\", \"a,b= map(int,input().split())\\nif a+b >= 10:\\n  print(\\\"error\\\")\\nelse:\\n  print(a+b)\", \"A,B=list(map(int,input().split()));print((A+B if A+B<10 else \\\"error\\\"))\\n\", \"a, b = map(int, input().split())\\nans = a + b\\nif ans >= 10: print('error')\\nelse: print(ans)\", \"a, b=map(int, input().split())\\nif a+b<10:\\n  print(a+b)\\nelse:\\n  print('error')\", \"# \\u5165\\u529b                                             \\nA, B = map(int, input().split())                 \\n                                                 \\n# \\u51fa\\u529b                                             \\nsum = A + B                                      \\n                                                 \\nif sum >= 10:                                    \\n    print('error')                               \\nelse:                                            \\n    print(sum)                                   \", \"a, b = list(map(int, input().split()))\\nif a + b >= 10:\\n    print(\\\"error\\\")\\nelse:\\n    print((a + b))\\n\", \"a,b = map(int,input().split())\\nif a+b >= 10:\\n    print(\\\"error\\\")\\nelse:\\n    print(a+b)\", \"A, B = map(int,input().split())\\n\\nif A + B >= 10:\\n    print(\\\"error\\\")\\nelse:\\n    print(A + B)\", \"# \\u5165\\u529b\\nA, B = map(int, input().split())\\n\\n# A+B\\u304c10\\u4ee5\\u4e0a\\u306a\\u3089error\\u3001\\u305d\\u308c\\u4ee5\\u5916\\u306a\\u3089\\u7d50\\u679c\\u3092\\u51fa\\u529b\\nif A + B >= 10:\\n    print('error')\\nelse:\\n    print(A + B)\", \"a,b = map(int,input().split())\\nif a + b < 10:\\n    print(a + b)\\nelse:\\n    print('error')\", \"S_list = list(map(int,input().split()))\\n\\nadd = S_list[0] + S_list[1]\\nif  add >= 10:\\n    result = \\\"error\\\"\\nelse:\\n    result = add \\nprint(result)\\n\", \"a,b=map(int,input().split())\\nprint(a+b if a+b < 10 else \\\"error\\\")\", \"#!/usr/bin/env python3\\n\\ndef main():\\n    a, b = list(map(int, input().split()))\\n    print((a + b if a + b < 10 else 'error'))\\n\\n\\ndef __starting_point():\\n    main()\\n\\n__starting_point()\", \"A,B = map(int,input().split())\\n\\nif A + B >= 10:\\n    print('error')\\nelse:\\n    print(A + B)\", \"a,b = map(int, input().split())\\n\\nif a + b >= 10:\\n  print(\\\"error\\\")\\nelse:\\n  print(a + b)\", \"# 063_a\\nA,B=map(int,input().split())\\nif 1<=A and B<=9:\\n    if A+B>=10:\\n        print('error')\\n    else:\\n        print(A+B)\", \"A, B = list(map(int,input().split()))\\nif A+B < 10:\\n    print(A+B)\\nelse:\\n    print('error')\", \"A,B = map(int,input().split())\\nprint(A+B if A+B < 10 else \\\"error\\\")\", \"A,B=map(int,input().split())\\nif A+B>=10 :\\n  print(\\\"error\\\")\\nelse :\\n  print(A+B)\", \"A, B = list(map(int, input().split()))\\n\\nif A + B < 10:\\n    print((A + B))\\nelse:\\n    print('error')\\n\", \"a, b = map(int, input().split())\\nx = a + b\\nif x < 10:\\n  print(x)\\nelse:\\n  print('error')\", \"import sys\\n\\ninput = sys.stdin.readline\\n\\na, b= list(map(int, input().split()))\\n\\nab = a+b\\nif ab >= 10:\\n    print(\\\"error\\\")\\nelse:\\n    print(ab)\\n\", \"a, b = map(int, input().split())\\n\\nif a+b >= 10:\\n    print(\\\"error\\\")\\nelse:\\n    print(a+b)\", \"a,b=map(int,input().split())\\nprint(a+b if a+b <10 else \\\"error\\\")\", \"a,b = map(int,input().split())\\nif a + b >= 10:\\n    print('error')\\nelse:\\n    print(a+b)\", \"a,b = map(int,input().split())\\nif a + b >= 10:\\n    print('error')\\nelse:\\n    print(a+b)\", \"#   AtCoder abc063 a\\n#   \\u30b9\\u30c8\\u30ec\\u30c3\\u30c1\\u8ab2\\u984c\\n\\n#   \\u5165\\u529b\\na, b = list(map(int, input().split()))\\n\\n#   \\u51e6\\u7406\\nif (a + b) >= 10:\\n    print(\\\"error\\\")\\nelse:\\n    print((a + b))\\n\", \"import sys, math\\nfrom itertools import combinations as c, product as p\\nfrom collections import deque\\nsys.setrecursionlimit(10**9)\\nINF = float('inf')\\nMOD = 10**9 + 7\\n#MOD = 998244353\\n\\n\\ndef si(): return input()\\ndef ii(): return int(input())\\ndef fi(): return float(input())\\ndef lstr(): return input().split()\\ndef lint(): return list(map(int, input().split()))\\ndef lintdec(): return list(map(lambda x:int(x) - 1, input().split()))\\ndef lnstr(n): return [input() for _ in range(n)]\\ndef lnint(n): return [int(input()) for _ in range(n)]\\ndef lint_list(n): return [lint() for _ in range(n)]\\n\\n\\n\\n############################################################\\nA, B = lint()\\nprint(A + B if A + B < 10 else 'error')\", \"a,b=map(int, input().split()) \\nprint(\\\"error\\\" if a+b>=10 else a+b)\", \"a,b = [int(x) for x in input().split()]\\nif a + b >= 10:\\n  print(\\\"error\\\")\\nelse:\\n  print(a+b)\", \"x=sum(map(int,input().split()))\\nif x>=10:\\n    print(\\\"error\\\")\\nelse:\\n    print(x)\\n\", \"A, B = map(int, input().split())\\n\\nif A + B < 10:\\n    print(A + B)\\nelse:\\n    print('error')\", \"A, B = map(int, input().split())\\n\\nif A+B >= 10:\\n    print(\\\"error\\\")\\nelse:\\n    print(A+B)\", \"a, b = map(int, input().split())\\nprint(\\\"error\\\" if a + b >= 10 else a + b)\", \"A, B = map(int, input().split())\\n\\nprint(A + B if A + B < 10 else \\\"error\\\")\", \"n, k = map(int, input().split())\\nif n + k < 10:\\n    print(n + k)\\nelse:\\n    print(\\\"error\\\")\", \"x,y=list(map(int,input().split()))\\nif x+y<10:\\n    print((x+y))\\nelse:\\n    print('error')\\n\", \"A,B = map(int,input().split())\\na = A+B\\nif a<10:\\n    print(a)\\nelse:\\n    print(\\\"error\\\")\", \"A, B = map(int, input().split())\\nif A+B>=10:\\n  print(\\\"error\\\")\\nelse:\\n  print(A+B)\", \"# \\u4e8c\\u3064\\u306e\\u6574\\u6570 A, B\\u304c\\u5165\\u529b\\u3055\\u308c\\u307e\\u3059\\u3002\\n# A + B \\u306e\\u5024\\u3092\\u51fa\\u529b\\u3057\\u3066\\u304f\\u3060\\u3055\\u3044\\u3002\\n# \\u305f\\u3060\\u3057\\u3001\\n# A + B \\u304c 10 \\u4ee5\\u4e0a\\u306e\\u5834\\u5408\\u306f\\u3001\\n# \\u4ee3\\u308f\\u308a\\u306b error \\u3068\\u51fa\\u529b\\u3057\\u3066\\u304f\\u3060\\u3055\\u3044\\u3002\\n\\n# \\u5236\\u7d04\\n# A, B \\u306f\\u6574\\u6570\\u3067\\u3042\\u308b\\u3002\\n# 1 \\u2266 A, B \\u2266 9\\n\\n# \\u6a19\\u6e96\\u5165\\u529b\\u304b\\u3089 A, B \\u306e\\u5024\\u3092\\u53d6\\u5f97\\u3059\\u308b\\na, b = list(map(int, input().split()))\\n\\n# \\u8a08\\u7b97\\u7d50\\u679c\\u3092\\u51fa\\u529b\\u3059\\u308b\\nresult = \\\"error\\\"\\n\\nif a + b < 10:\\n    result = a + b\\n\\nprint(result)\\n\", \"a, b = map(int, input().split())\\nprint(a+b if a+b < 10 else \\\"error\\\")\", \"int_1, int_2 = map(int, input().split())\\nanswer = int_1 + int_2\\n\\nif 10 <= answer:\\n    print('error')\\nelse:\\n    print(answer)\", \"a,b = list(map(int,input().split()))\\n\\nprint((a+b if a+b < 10 else 'error'))\\n\", \"a,b = list(map(int,input().split()))\\nprint((\\\"error\\\" if a+b>=10 else a+b))\\n\", \"a, b = map(int,input().split())\\nprint('error') if a + b >= 10 else print(a+b)\", \"C=sum(map(int,input().split()))\\nif C>=10:\\n  print(\\\"error\\\")\\nelse:\\n  print(C)\", \"a,b=map(int,input().split())\\nif a+b>=10:\\n  print(\\\"error\\\")\\nelse:\\n  print(a+b)\", \"a,b = map(int,input().split())\\nif 10<=a+b:\\n  print('error')\\nelse:\\n  print(a+b)\", \"a,b = map(int,input().split())\\nprint(a+b if a+b < 10 else \\\"error\\\")\", \"a, b = map(int, input().split())\\n\\nprint('error' if a + b >= 10 else a + b)\", \"a, b = map(int, input().split())\\n\\nif a + b >= 10:\\n    print('error')\\nelse:\\n    print(a + b)\", \"a, b = map(int, input().split())\\n\\nif a + b >= 10:\\n    print('error')\\nelse:\\n    print(a + b)\", \"A, B = map(int, input().split())\\nC = A + B\\nprint(C if C < 10 else \\\"error\\\")\", \"LI = lambda: list(map(int, input().split()))\\n\\nA, B = LI()\\n\\n\\ndef main():\\n    ans = A + B;\\n    if ans >= 10:\\n        ans = \\\"error\\\"\\n    print(ans)\\n\\n\\ndef __starting_point():\\n    main()\\n\\n__starting_point()\", \"A, B = map(int, input().split())\\nprint(A+B if A+B < 10 else 'error')\", \"# s=int(input())\\n# b=input()\\n# c=[]\\n# for i in range(b):\\n#     c.append(a[i])\\na = list(map(int,input().split()))\\n#b = list(map(int,input().split()))\\n\\nif (a[0]+a[1])<10:\\n    print(a[0]+a[1])\\nelse:\\n    print(\\\"error\\\")\", \"'''\\nabc063 A - Restricted\\nhttps://atcoder.jp/contests/abc063/tasks/abc063_a\\n'''\\n\\na, b = list(map(int, input().split()))\\nans = a+b if a+b < 10 else 'error'\\nprint(ans)\\n\", \"A,B=list(map(int,input().split()))\\nif A+B>=10:\\n  print(\\\"error\\\")\\nelse:\\n  print((A+B))\\n\", \"a,b=map(int, input().split())\\n\\nprint(a+b if a+b<10 else 'error')\", \"a, b = map(int, input().split())\\nprint(a+b if a+b<10 else 'error')\", \"# A - Restricted\\n\\n# A+B\\u306e\\u5024\\u3092\\u51fa\\u529b\\u3059\\u308b\\n# A+B\\u304c10\\u4ee5\\u4e0a\\u306e\\u5834\\u5408\\u306ferror\\u3068\\u51fa\\u529b\\u3059\\u308b\\n\\n\\nA,B = list(map(int,input().split()))\\n\\nanswer = A + B\\n\\nif answer < 10:\\n    print(answer)\\nelse:\\n    print('error')\\n\", \"# \\u5404\\u6570\\u5024\\u306e\\u53d6\\u5f97\\nA,B = map(int,input().split())\\n\\n# \\u5408\\u8a08\\u304c10\\u4ee5\\u4e0a\\u304b\\u5224\\u5b9a\\u5f8c\\u30e1\\u30c3\\u30bb\\u30fc\\u30b8\\u3092\\u51fa\\u529b\\ntotal = A + B\\nif total < 10 :\\n    print(total)\\nelse:\\n    print(\\\"error\\\")\", \"a,b=map(int,input().split())\\n\\nif a+b>=10:\\n  print('error')\\n  \\nelse:\\n  print(a+b)\", \"a,b=map(int,input().split())\\nif a+b>9:\\n  print('error')\\nelse:\\n  print(a+b)\", \"# \\u5165\\u529b\\nA, B =map(int,input().split())\\n\\n# \\u51e6\\u7406\\nanswer = A + B\\nif answer < 10:\\n    print(answer)\\nelse:\\n    print('error')\", \"A, B = map(int, input().split())\\nprint(A+B if A+B < 10 else 'error')\", \"a,b = map(int,input().split())\\nprint(a+b if a+b < 10 else \\\"error\\\")\", \"#n = int(input())\\na, b = list(map(int, input().split()))\\n#l = list(map(int,input().split()))\\n#l = [list(map(int,input().split())) for i in range(n)]\\nans = a+b\\nif a+b >= 10:\\n    ans = 'error'\\nprint(ans)\\n\", \"a,b=map(int,input().split())\\nif a+b>=10:\\n  print(\\\"error\\\")\\nelse:\\n  print(a+b)\", \"a, b = map(int, input().split())\\n\\nif a + b >= 10:\\n    print('error')\\nelse:\\n    print(a + b)\", \"# \\u4e8c\\u3064\\u306e\\u6574\\u6570 A , B \\u304c\\u5165\\u529b\\u3055\\u308c\\u307e\\u3059\\u3002 A + B \\u306e\\u5024\\u3092\\u51fa\\u529b\\u3057\\u3066\\u304f\\u3060\\u3055\\u3044\\u3002\\n# \\u305f\\u3060\\u3057\\u3001 A + B \\u304c 10 \\u4ee5\\u4e0a\\u306e\\u5834\\u5408\\u306f\\u3001\\u4ee3\\u308f\\u308a\\u306b error \\u3068\\u51fa\\u529b\\u3057\\u3066\\u304f\\u3060\\u3055\\u3044\\u3002\\n\\nA,B = map(int,input().split())\\n\\nif A + B <= 9:\\n    print(A + B)\\n\\nelse:\\n    print('error')\", \"a,b=map(int,input().split())\\nif a+b<10:print(a+b)\\nelse:print('error')\", \"A, B = map(int, input().split())\\n \\nif A + B < 10: print(A+B)\\nelse: print('error')\", \"# coding = SJIS\\n\\na, b = map(int, input().split())\\n\\nif a + b >= 10:\\n    print(\\\"error\\\")\\nelse:\\n    print(a + b)\", \"a,b = map(int,input().split())\\n#lis = list(map(int,input().split()))\\nprint(\\\"error\\\" if a+b >= 10 else a+b)\", \"a,b=map(int,input().split())\\nif a+b>=10:\\n    print(\\\"error\\\")\\nelse:\\n    print(a+b)\", \"a, b = map(int, input().split())\\ns = a + b\\nif s >= 10: print('error')\\nelse: print(s)\", \"a,b=list(map(int,input().split()))\\nif (a+b)<10:\\n    print((a+b))\\nelse:\\n    print(\\\"error\\\")\\n\\n\", \"A, B = map(int, input().split())\\n\\nx = A + B\\n\\nif x >= 10:\\n    print(\\\"error\\\")\\nelse:\\n    print(x)\", \"a, b = list(map(int, input().split()))\\n\\nif 10 <= a + b:\\n    print(\\\"error\\\")\\nelse:\\n    print((a + b))\\n\"]\n",
      "\n",
      ">>>>>>input_output\n",
      "{\"inputs\": [\"6 3\\n\", \"6 4\\n\"], \"outputs\": [\"9\\n\", \"error\\n\"]}\n",
      "\n",
      ">>>>>>difficulty\n",
      "introductory\n",
      "\n",
      ">>>>>>url\n",
      "https://atcoder.jp/contests/abc063/tasks/abc063_a\n",
      "\n",
      ">>>>>>starter_code\n",
      "\n",
      "\n"
     ]
    }
   ],
   "source": [
    "apps_path = 'APPS.jsonl'\n",
    "apps_data = read_jsonl(apps_path)\n",
    "print_single_sample(apps_data)"
   ]
  },
  {
   "cell_type": "code",
   "execution_count": null,
   "id": "00540dd7",
   "metadata": {},
   "outputs": [
    {
     "name": "stdout",
     "output_type": "stream",
     "text": [
      "Non-empty Starter:\n",
      "\n",
      "# Enter your code here. Read input from STDIN. Print output to STDOUT\n",
      "\n",
      "Non-empty Starter:\n",
      "\n",
      "class Solution:\n",
      "    def spiralOrder(self, matrix: List[List[int]]) -> List[int]:\n",
      "        \n",
      "\n"
     ]
    }
   ],
   "source": [
    "for sample in apps_data:\n",
    "    if sample['starter_code']:\n",
    "        print(f'Non-empty Starter:\\n{sample[\"starter_code\"]}\\n')\n",
    "\n",
    "# starter_code doesn't seem to help for our samples"
   ]
  },
  {
   "cell_type": "code",
   "execution_count": 12,
   "id": "57fb5729",
   "metadata": {},
   "outputs": [],
   "source": [
    "APPS_base_prompt = '../prompt/APPS_base.txt'\n",
    "with open(APPS_base_prompt) as f:\n",
    "    prompt_template = f.read()\n",
    "\n",
    "APPS_prompts = dict()\n",
    "for problem in apps_data:\n",
    "    id = problem['id']\n",
    "    prompt = problem['question']\n",
    "    APPS_prompts[id] = prompt_template.format(problem=prompt)"
   ]
  },
  {
   "cell_type": "code",
   "execution_count": 14,
   "id": "37059f03",
   "metadata": {},
   "outputs": [],
   "source": [
    "with open('APPS_prompts.json', 'w') as f:\n",
    "    json.dump(APPS_prompts, f, indent=4)"
   ]
  }
 ],
 "metadata": {
  "kernelspec": {
   "display_name": "base",
   "language": "python",
   "name": "python3"
  },
  "language_info": {
   "codemirror_mode": {
    "name": "ipython",
    "version": 3
   },
   "file_extension": ".py",
   "mimetype": "text/x-python",
   "name": "python",
   "nbconvert_exporter": "python",
   "pygments_lexer": "ipython3",
   "version": "3.11.5"
  }
 },
 "nbformat": 4,
 "nbformat_minor": 5
}
