{
 "cells": [
  {
   "cell_type": "code",
   "execution_count": 1,
   "metadata": {},
   "outputs": [],
   "source": [
    "import os\n",
    "import json\n",
    "import random"
   ]
  },
  {
   "cell_type": "code",
   "execution_count": 2,
   "metadata": {},
   "outputs": [],
   "source": [
    "benchmarks = [\"APPS\", \"HumanEval\"]\n",
    "models = [\"llama3\", \"llama3.1\", \"mistral-nemo\", \"qwen2.5-coder\"]\n",
    "modes = [None, \"instruction\", \"rule\"]"
   ]
  },
  {
   "cell_type": "code",
   "execution_count": 4,
   "metadata": {},
   "outputs": [],
   "source": [
    "def tie_break(data):\n",
    "    ties = [i for i in data if i[1][0] == data[0][1][0]]\n",
    "    return random.choice(ties)\n",
    "\n",
    "\n",
    "def vote(mode, benchmark, model, prompt_mode=None):\n",
    "    if not prompt_mode:\n",
    "        with open(f\"./preprocessed_results/{mode}/{benchmark}_{model}.json\", \"r\") as f:\n",
    "            data =json.load(f)\n",
    "    if prompt_mode:\n",
    "        with open(f\"./preprocessed_results/{mode}/{benchmark}_{model}_{prompt_mode}.json\", \"r\") as f:\n",
    "            data =json.load(f)\n",
    "    result = []\n",
    "\n",
    "    for problem_id, samples in data.items():\n",
    "        sample_dict = dict()\n",
    "        for sample in samples:\n",
    "            if sample[0] not in sample_dict:\n",
    "                sample_dict[sample[0]] = [1, sample[1][\"result\"]]\n",
    "            elif sample[0] in sample_dict:\n",
    "                sample_dict[sample[0]][0] += 1\n",
    "        major = sorted(sample_dict.items(), key=lambda x:x[1][0], reverse=True)\n",
    "        if \"passed\" in tie_break(major)[1][1]:\n",
    "            result.append(True)\n",
    "        else:\n",
    "            result.append(False)\n",
    "        \n",
    "    return result"
   ]
  },
  {
   "cell_type": "markdown",
   "metadata": {},
   "source": [
    "## Augmented"
   ]
  },
  {
   "cell_type": "code",
   "execution_count": 8,
   "metadata": {},
   "outputs": [
    {
     "name": "stdout",
     "output_type": "stream",
     "text": [
      "APPS\n",
      "APPS_llama3_None: 19/300\n",
      "APPS_llama3_instruction: 20/300\n",
      "APPS_llama3_rule: 21/300\n",
      "APPS_llama3.1_None: 18/300\n",
      "APPS_llama3.1_instruction: 21/300\n",
      "APPS_llama3.1_rule: 20/300\n",
      "APPS_mistral-nemo_None: 25/300\n",
      "APPS_mistral-nemo_instruction: 29/300\n",
      "APPS_mistral-nemo_rule: 28/300\n",
      "APPS_qwen2.5-coder_None: 18/300\n",
      "APPS_qwen2.5-coder_instruction: 21/300\n",
      "APPS_qwen2.5-coder_rule: 18/300\n",
      "HumanEval\n",
      "HumanEval_llama3_None: 53/164\n",
      "HumanEval_llama3_instruction: 56/164\n",
      "HumanEval_llama3_rule: 56/164\n",
      "HumanEval_llama3.1_None: 83/164\n",
      "HumanEval_llama3.1_instruction: 82/164\n",
      "HumanEval_llama3.1_rule: 85/164\n",
      "HumanEval_mistral-nemo_None: 55/164\n",
      "HumanEval_mistral-nemo_instruction: 54/164\n",
      "HumanEval_mistral-nemo_rule: 55/164\n",
      "HumanEval_qwen2.5-coder_None: 109/164\n",
      "HumanEval_qwen2.5-coder_instruction: 108/164\n",
      "HumanEval_qwen2.5-coder_rule: 107/164\n"
     ]
    }
   ],
   "source": [
    "for bm in benchmarks:\n",
    "    print(bm)\n",
    "    for model in models:\n",
    "        for mode in modes:\n",
    "            result = vote(\"augmented\", bm, model + \"_augmented\")\n",
    "            print(f\"{bm}_{model}_{mode}: {result.count(True)}/{len(result)}\")"
   ]
  },
  {
   "cell_type": "markdown",
   "metadata": {},
   "source": [
    "## AST-only"
   ]
  },
  {
   "cell_type": "code",
   "execution_count": 6,
   "metadata": {},
   "outputs": [
    {
     "name": "stdout",
     "output_type": "stream",
     "text": [
      "APPS\n",
      "APPS_llama3_None: 18/300\n",
      "APPS_llama3_instruction: 21/300\n",
      "APPS_llama3_rule: 23/300\n",
      "APPS_llama3.1_None: 21/300\n",
      "APPS_llama3.1_instruction: 18/300\n",
      "APPS_llama3.1_rule: 19/300\n",
      "APPS_mistral-nemo_None: 28/300\n",
      "APPS_mistral-nemo_instruction: 34/300\n",
      "APPS_mistral-nemo_rule: 32/300\n",
      "APPS_qwen2.5-coder_None: 19/300\n",
      "APPS_qwen2.5-coder_instruction: 21/300\n",
      "APPS_qwen2.5-coder_rule: 18/300\n",
      "HumanEval\n",
      "HumanEval_llama3_None: 59/164\n",
      "HumanEval_llama3_instruction: 60/164\n",
      "HumanEval_llama3_rule: 61/164\n",
      "HumanEval_llama3.1_None: 88/164\n",
      "HumanEval_llama3.1_instruction: 90/164\n",
      "HumanEval_llama3.1_rule: 88/164\n",
      "HumanEval_mistral-nemo_None: 55/164\n",
      "HumanEval_mistral-nemo_instruction: 58/164\n",
      "HumanEval_mistral-nemo_rule: 58/164\n",
      "HumanEval_qwen2.5-coder_None: 108/164\n",
      "HumanEval_qwen2.5-coder_instruction: 108/164\n",
      "HumanEval_qwen2.5-coder_rule: 108/164\n"
     ]
    }
   ],
   "source": [
    "for bm in benchmarks:\n",
    "    print(bm)\n",
    "    for model in models:\n",
    "        for mode in modes:\n",
    "            result = vote(\"ast_only\", bm, model)\n",
    "            print(f\"{bm}_{model}_{mode}: {result.count(True)}/{len(result)}\")"
   ]
  },
  {
   "cell_type": "markdown",
   "metadata": {},
   "source": [
    "## Variable Unified"
   ]
  },
  {
   "cell_type": "code",
   "execution_count": 7,
   "metadata": {},
   "outputs": [
    {
     "name": "stdout",
     "output_type": "stream",
     "text": [
      "APPS\n",
      "APPS_llama3_None: 19/300\n",
      "APPS_llama3_instruction: 20/300\n",
      "APPS_llama3_rule: 19/300\n",
      "APPS_llama3.1_None: 20/300\n",
      "APPS_llama3.1_instruction: 21/300\n",
      "APPS_llama3.1_rule: 20/300\n",
      "APPS_mistral-nemo_None: 31/300\n",
      "APPS_mistral-nemo_instruction: 30/300\n",
      "APPS_mistral-nemo_rule: 30/300\n",
      "APPS_qwen2.5-coder_None: 19/300\n",
      "APPS_qwen2.5-coder_instruction: 18/300\n",
      "APPS_qwen2.5-coder_rule: 21/300\n",
      "HumanEval\n",
      "HumanEval_llama3_None: 62/164\n",
      "HumanEval_llama3_instruction: 62/164\n",
      "HumanEval_llama3_rule: 60/164\n",
      "HumanEval_llama3.1_None: 91/164\n",
      "HumanEval_llama3.1_instruction: 89/164\n",
      "HumanEval_llama3.1_rule: 93/164\n",
      "HumanEval_mistral-nemo_None: 56/164\n",
      "HumanEval_mistral-nemo_instruction: 59/164\n",
      "HumanEval_mistral-nemo_rule: 57/164\n",
      "HumanEval_qwen2.5-coder_None: 111/164\n",
      "HumanEval_qwen2.5-coder_instruction: 108/164\n",
      "HumanEval_qwen2.5-coder_rule: 107/164\n"
     ]
    }
   ],
   "source": [
    "for bm in benchmarks:\n",
    "    print(bm)\n",
    "    for model in models:\n",
    "        for mode in modes:\n",
    "            result = vote(\"var_unif\", bm, model)\n",
    "            print(f\"{bm}_{model}_{mode}: {result.count(True)}/{len(result)}\")"
   ]
  }
 ],
 "metadata": {
  "kernelspec": {
   "display_name": "Python 3",
   "language": "python",
   "name": "python3"
  },
  "language_info": {
   "codemirror_mode": {
    "name": "ipython",
    "version": 3
   },
   "file_extension": ".py",
   "mimetype": "text/x-python",
   "name": "python",
   "nbconvert_exporter": "python",
   "pygments_lexer": "ipython3",
   "version": "3.9.1"
  }
 },
 "nbformat": 4,
 "nbformat_minor": 2
}
