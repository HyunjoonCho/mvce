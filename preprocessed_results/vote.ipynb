{
 "cells": [
  {
   "cell_type": "code",
   "execution_count": 21,
   "metadata": {},
   "outputs": [],
   "source": [
    "import os\n",
    "import json\n",
    "import random\n",
    "import numpy as np"
   ]
  },
  {
   "cell_type": "code",
   "execution_count": 22,
   "metadata": {},
   "outputs": [],
   "source": [
    "benchmarks = [\"HumanEval\"]\n",
    "models = [\"llama3\", \"llama3.1\", \"mistral-nemo\", \"qwen2.5-coder\"]\n",
    "\n",
    "def tie_break(data):\n",
    "    ties = [i for i in data if i[1][0] == data[0][1][0]]\n",
    "    return random.choice(ties)\n",
    "\n",
    "def get_entropy(data):\n",
    "    probs = np.array(data)[:, 0].astype(float)\n",
    "    probs = probs / np.sum(probs)\n",
    "    entropy = -np.sum(probs * np.log2(probs))\n",
    "    return entropy\n",
    "\n",
    "def vote(mode, benchmark, model):\n",
    "    with open(f\"./preprocessed_results/{mode}/{benchmark}_{model}.json\", \"r\") as f:\n",
    "        data =json.load(f)\n",
    "    result = []\n",
    "    entropy = []\n",
    "\n",
    "    for problem_id, samples in data.items():\n",
    "        sample_dict = dict()\n",
    "        for sample in samples:\n",
    "            if sample[0] not in sample_dict:\n",
    "                sample_dict[sample[0]] = [1, sample[1][\"result\"]]\n",
    "            elif sample[0] in sample_dict:\n",
    "                sample_dict[sample[0]][0] += 1\n",
    "        major = sorted(sample_dict.items(), key=lambda x:x[1][0], reverse=True)\n",
    "        entropy.append(get_entropy(list(sample_dict.values())))\n",
    "        if \"passed\" in tie_break(major)[1][1]:\n",
    "            result.append(True)\n",
    "        else:\n",
    "            result.append(False)\n",
    "        \n",
    "    return result, entropy"
   ]
  },
  {
   "cell_type": "markdown",
   "metadata": {},
   "source": [
    "## Augmented"
   ]
  },
  {
   "cell_type": "code",
   "execution_count": 28,
   "metadata": {},
   "outputs": [
    {
     "name": "stdout",
     "output_type": "stream",
     "text": [
      "HumanEval\n",
      "llama3: 55/164, entropy: 3.5220\n",
      "llama3.1: 88/164, entropy: 3.2418\n",
      "mistral-nemo: 54/164, entropy: 3.2060\n",
      "qwen2.5-coder: 105/164, entropy: 2.2601\n"
     ]
    }
   ],
   "source": [
    "for bm in benchmarks:\n",
    "    print(bm)\n",
    "    for model in models:\n",
    "        result, entr = vote(\"augmented\", bm, model + \"_augmented\")\n",
    "        print(f\"{model}: {result.count(True)}/{len(result)}, entropy: {np.mean(entr):.4f}\")"
   ]
  },
  {
   "cell_type": "markdown",
   "metadata": {},
   "source": [
    "## AST-only"
   ]
  },
  {
   "cell_type": "code",
   "execution_count": 29,
   "metadata": {},
   "outputs": [
    {
     "name": "stdout",
     "output_type": "stream",
     "text": [
      "HumanEval\n",
      "llama3: 57/164, entropy: 3.3802\n",
      "llama3.1: 88/164, entropy: 3.1383\n",
      "mistral-nemo: 57/164, entropy: 3.0822\n",
      "qwen2.5-coder: 107/164, entropy: 2.0959\n"
     ]
    }
   ],
   "source": [
    "for bm in benchmarks:\n",
    "    print(bm)\n",
    "    for model in models:\n",
    "        result, entr = vote(\"ast_only\", bm, model)\n",
    "        print(f\"{model}: {result.count(True)}/{len(result)}, entropy: {np.mean(entr):.4f}\")"
   ]
  },
  {
   "cell_type": "markdown",
   "metadata": {},
   "source": [
    "## Variable Unified"
   ]
  },
  {
   "cell_type": "code",
   "execution_count": 30,
   "metadata": {},
   "outputs": [
    {
     "name": "stdout",
     "output_type": "stream",
     "text": [
      "HumanEval\n",
      "llama3: 60/164, entropy: 3.2169\n",
      "llama3.1: 88/164, entropy: 2.9190\n",
      "mistral-nemo: 55/164, entropy: 2.9634\n",
      "qwen2.5-coder: 109/164, entropy: 1.8344\n"
     ]
    }
   ],
   "source": [
    "for bm in benchmarks:\n",
    "    print(bm)\n",
    "    for model in models:\n",
    "        result, entr = vote(\"var_unif\", bm, model)\n",
    "        print(f\"{model}: {result.count(True)}/{len(result)}, entropy: {np.mean(entr):.4f}\")"
   ]
  }
 ],
 "metadata": {
  "kernelspec": {
   "display_name": "Python 3",
   "language": "python",
   "name": "python3"
  },
  "language_info": {
   "codemirror_mode": {
    "name": "ipython",
    "version": 3
   },
   "file_extension": ".py",
   "mimetype": "text/x-python",
   "name": "python",
   "nbconvert_exporter": "python",
   "pygments_lexer": "ipython3",
   "version": "3.12.10"
  }
 },
 "nbformat": 4,
 "nbformat_minor": 2
}
