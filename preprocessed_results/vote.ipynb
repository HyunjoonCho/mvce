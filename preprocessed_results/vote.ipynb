{
 "cells": [
  {
   "cell_type": "code",
   "execution_count": 57,
   "metadata": {},
   "outputs": [],
   "source": [
    "import os\n",
    "import json\n",
    "import random"
   ]
  },
  {
   "cell_type": "code",
   "execution_count": 58,
   "metadata": {},
   "outputs": [],
   "source": [
    "benchmarks = [\"HumanEval\"]\n",
    "models = [\"llama3\", \"llama3.1\", \"mistral-nemo\", \"qwen2.5-coder\"]\n",
    "\n",
    "def tie_break(data):\n",
    "    ties = [i for i in data if i[1][0] == data[0][1][0]]\n",
    "    return random.choice(ties)\n",
    "\n",
    "\n",
    "def vote(mode, benchmark, model):\n",
    "    with open(f\"./preprocessed_results/{mode}/{benchmark}_{model}.json\", \"r\") as f:\n",
    "        data =json.load(f)\n",
    "    result = []\n",
    "\n",
    "    for problem_id, samples in data.items():\n",
    "        sample_dict = dict()\n",
    "        for sample in samples:\n",
    "            if sample[0] not in sample_dict:\n",
    "                sample_dict[sample[0]] = [1, sample[1][\"result\"]]\n",
    "            elif sample[0] in sample_dict:\n",
    "                sample_dict[sample[0]][0] += 1\n",
    "        major = sorted(sample_dict.items(), key=lambda x:x[1][0], reverse=True)\n",
    "        if \"passed\" in tie_break(major)[1][1]:\n",
    "            result.append(True)\n",
    "        else:\n",
    "            result.append(False)\n",
    "        \n",
    "    return result"
   ]
  },
  {
   "cell_type": "markdown",
   "metadata": {},
   "source": [
    "## Augmented"
   ]
  },
  {
   "cell_type": "code",
   "execution_count": 59,
   "metadata": {},
   "outputs": [
    {
     "name": "stdout",
     "output_type": "stream",
     "text": [
      "HumanEval\n",
      "llama3: 50/164\n",
      "llama3.1: 82/164\n",
      "mistral-nemo: 53/164\n",
      "qwen2.5-coder: 109/164\n"
     ]
    }
   ],
   "source": [
    "for bm in benchmarks:\n",
    "    print(bm)\n",
    "    for model in models:\n",
    "        result = vote(\"augmented\", bm, model + \"_augmented\")\n",
    "        print(f\"{model}: {result.count(True)}/{len(result)}\")"
   ]
  },
  {
   "cell_type": "markdown",
   "metadata": {},
   "source": [
    "## AST-only"
   ]
  },
  {
   "cell_type": "code",
   "execution_count": 60,
   "metadata": {},
   "outputs": [
    {
     "name": "stdout",
     "output_type": "stream",
     "text": [
      "HumanEval\n",
      "llama3: 61/164\n",
      "llama3.1: 89/164\n",
      "mistral-nemo: 58/164\n",
      "qwen2.5-coder: 107/164\n"
     ]
    }
   ],
   "source": [
    "for bm in benchmarks:\n",
    "    print(bm)\n",
    "    for model in models:\n",
    "        result = vote(\"ast_only\", bm, model)\n",
    "        print(f\"{model}: {result.count(True)}/{len(result)}\")"
   ]
  },
  {
   "cell_type": "markdown",
   "metadata": {},
   "source": [
    "## Variable Unified"
   ]
  },
  {
   "cell_type": "code",
   "execution_count": 61,
   "metadata": {},
   "outputs": [
    {
     "name": "stdout",
     "output_type": "stream",
     "text": [
      "HumanEval\n",
      "llama3: 58/164\n",
      "llama3.1: 90/164\n",
      "mistral-nemo: 60/164\n",
      "qwen2.5-coder: 109/164\n"
     ]
    }
   ],
   "source": [
    "for bm in benchmarks:\n",
    "    print(bm)\n",
    "    for model in models:\n",
    "        result = vote(\"var_unif\", bm, model)\n",
    "        print(f\"{model}: {result.count(True)}/{len(result)}\")"
   ]
  }
 ],
 "metadata": {
  "kernelspec": {
   "display_name": "Python 3",
   "language": "python",
   "name": "python3"
  },
  "language_info": {
   "codemirror_mode": {
    "name": "ipython",
    "version": 3
   },
   "file_extension": ".py",
   "mimetype": "text/x-python",
   "name": "python",
   "nbconvert_exporter": "python",
   "pygments_lexer": "ipython3",
   "version": "3.9.1"
  }
 },
 "nbformat": 4,
 "nbformat_minor": 2
}
