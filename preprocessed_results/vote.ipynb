{
 "cells": [
  {
   "cell_type": "code",
   "execution_count": 31,
   "metadata": {},
   "outputs": [],
   "source": [
    "import os\n",
    "import json\n",
    "import random\n",
    "import numpy as np"
   ]
  },
  {
   "cell_type": "code",
   "execution_count": 40,
   "metadata": {},
   "outputs": [],
   "source": [
    "benchmarks = [\"APPS\", \"HumanEval\"]\n",
    "models = [\"llama3\", \"llama3.1\", \"mistral-nemo\", \"qwen2.5-coder\"]\n",
    "modes = [None, \"instruction\", \"rule\"]"
   ]
  },
  {
   "cell_type": "code",
   "execution_count": 33,
   "metadata": {},
   "outputs": [],
   "source": [
    "def tie_break(data):\n",
    "    ties = [i for i in data if i[1][0] == data[0][1][0]]\n",
    "    return random.choice(ties)\n",
    "\n",
    "def get_entropy(data):\n",
    "    probs = np.array(data)[:, 0].astype(float)\n",
    "    probs = probs / np.sum(probs)\n",
    "    entropy = -np.sum(probs * np.log2(probs))\n",
    "    return entropy\n",
    "\n",
    "def vote(mode, benchmark, model, prompt_mode=None):\n",
    "    if not prompt_mode:\n",
    "        with open(f\"./preprocessed_results/{mode}/{benchmark}_{model}.json\", \"r\") as f:\n",
    "            data =json.load(f)\n",
    "    if prompt_mode:\n",
    "        with open(f\"./preprocessed_results/{mode}/{benchmark}_{model}_{prompt_mode}.json\", \"r\") as f:\n",
    "            data =json.load(f)\n",
    "    result = []\n",
    "    entropy = []\n",
    "\n",
    "    for problem_id, samples in data.items():\n",
    "        sample_dict = dict()\n",
    "        for sample in samples:\n",
    "            if sample[0] not in sample_dict:\n",
    "                sample_dict[sample[0]] = [1, sample[1][\"result\"]]\n",
    "            elif sample[0] in sample_dict:\n",
    "                sample_dict[sample[0]][0] += 1\n",
    "        major = sorted(sample_dict.items(), key=lambda x:x[1][0], reverse=True)\n",
    "        entropy.append(get_entropy(list(sample_dict.values())))\n",
    "        if \"passed\" in tie_break(major)[1][1]:\n",
    "            result.append(True)\n",
    "        else:\n",
    "            result.append(False)\n",
    "        \n",
    "    return result, entropy"
   ]
  },
  {
   "cell_type": "markdown",
   "metadata": {},
   "source": [
    "## Augmented"
   ]
  },
  {
   "cell_type": "code",
   "execution_count": 41,
   "metadata": {},
   "outputs": [
    {
     "name": "stdout",
     "output_type": "stream",
     "text": [
      "APPS\n",
      "llama3: 22/300, entropy: 4.2075\n",
      "llama3: 21/300, entropy: 4.2075\n",
      "llama3: 19/300, entropy: 4.2075\n",
      "llama3.1: 19/300, entropy: 4.2119\n",
      "llama3.1: 18/300, entropy: 4.2119\n",
      "llama3.1: 18/300, entropy: 4.2119\n",
      "mistral-nemo: 29/300, entropy: 4.2141\n",
      "mistral-nemo: 26/300, entropy: 4.2141\n",
      "mistral-nemo: 27/300, entropy: 4.2141\n",
      "qwen2.5-coder: 19/300, entropy: 4.1487\n",
      "qwen2.5-coder: 17/300, entropy: 4.1487\n",
      "qwen2.5-coder: 21/300, entropy: 4.1487\n",
      "HumanEval\n",
      "llama3: 60/164, entropy: 3.5220\n",
      "llama3: 57/164, entropy: 3.5220\n",
      "llama3: 52/164, entropy: 3.5220\n",
      "llama3.1: 85/164, entropy: 3.2418\n",
      "llama3.1: 88/164, entropy: 3.2418\n",
      "llama3.1: 82/164, entropy: 3.2418\n",
      "mistral-nemo: 56/164, entropy: 3.2060\n",
      "mistral-nemo: 57/164, entropy: 3.2060\n",
      "mistral-nemo: 55/164, entropy: 3.2060\n",
      "qwen2.5-coder: 106/164, entropy: 2.2601\n",
      "qwen2.5-coder: 106/164, entropy: 2.2601\n",
      "qwen2.5-coder: 105/164, entropy: 2.2601\n"
     ]
    }
   ],
   "source": [
    "for bm in benchmarks:\n",
    "    print(bm)\n",
    "    for model in models:\n",
    "        for mode in modes:\n",
    "            result, entr = vote(\"augmented\", bm, model + \"_augmented\")\n",
    "            print(f\"{model}: {result.count(True)}/{len(result)}, entropy: {np.mean(entr):.4f}\")"
   ]
  },
  {
   "cell_type": "markdown",
   "metadata": {},
   "source": [
    "## AST-only"
   ]
  },
  {
   "cell_type": "code",
   "execution_count": 42,
   "metadata": {},
   "outputs": [
    {
     "name": "stdout",
     "output_type": "stream",
     "text": [
      "APPS\n",
      "llama3: 20/300, entropy: 4.1782\n",
      "llama3: 18/300, entropy: 4.1782\n",
      "llama3: 19/300, entropy: 4.1782\n",
      "llama3.1: 20/300, entropy: 4.1933\n",
      "llama3.1: 19/300, entropy: 4.1933\n",
      "llama3.1: 20/300, entropy: 4.1933\n",
      "mistral-nemo: 28/300, entropy: 4.1939\n",
      "mistral-nemo: 34/300, entropy: 4.1939\n",
      "mistral-nemo: 31/300, entropy: 4.1939\n",
      "qwen2.5-coder: 17/300, entropy: 4.1335\n",
      "qwen2.5-coder: 22/300, entropy: 4.1335\n",
      "qwen2.5-coder: 22/300, entropy: 4.1335\n",
      "HumanEval\n",
      "llama3: 60/164, entropy: 3.3802\n",
      "llama3: 58/164, entropy: 3.3802\n",
      "llama3: 61/164, entropy: 3.3802\n",
      "llama3.1: 88/164, entropy: 3.1383\n",
      "llama3.1: 90/164, entropy: 3.1383\n",
      "llama3.1: 86/164, entropy: 3.1383\n",
      "mistral-nemo: 56/164, entropy: 3.0822\n",
      "mistral-nemo: 57/164, entropy: 3.0822\n",
      "mistral-nemo: 58/164, entropy: 3.0822\n",
      "qwen2.5-coder: 107/164, entropy: 2.0959\n",
      "qwen2.5-coder: 108/164, entropy: 2.0959\n",
      "qwen2.5-coder: 107/164, entropy: 2.0959\n"
     ]
    }
   ],
   "source": [
    "for bm in benchmarks:\n",
    "    print(bm)\n",
    "    for model in models:\n",
    "        for mode in modes:\n",
    "            result, entr = vote(\"ast_only\", bm, model)\n",
    "            print(f\"{model}: {result.count(True)}/{len(result)}, entropy: {np.mean(entr):.4f}\")"
   ]
  },
  {
   "cell_type": "markdown",
   "metadata": {},
   "source": [
    "## Variable Unified"
   ]
  },
  {
   "cell_type": "code",
   "execution_count": 43,
   "metadata": {},
   "outputs": [
    {
     "name": "stdout",
     "output_type": "stream",
     "text": [
      "APPS\n",
      "llama3: 21/300, entropy: 4.1645\n",
      "llama3: 17/300, entropy: 4.1645\n",
      "llama3: 19/300, entropy: 4.1645\n",
      "llama3.1: 20/300, entropy: 4.1611\n",
      "llama3.1: 20/300, entropy: 4.1611\n",
      "llama3.1: 22/300, entropy: 4.1611\n",
      "mistral-nemo: 35/300, entropy: 4.1611\n",
      "mistral-nemo: 33/300, entropy: 4.1611\n",
      "mistral-nemo: 33/300, entropy: 4.1611\n",
      "qwen2.5-coder: 19/300, entropy: 4.1175\n",
      "qwen2.5-coder: 21/300, entropy: 4.1175\n",
      "qwen2.5-coder: 20/300, entropy: 4.1175\n",
      "HumanEval\n",
      "llama3: 63/164, entropy: 3.2169\n",
      "llama3: 63/164, entropy: 3.2169\n",
      "llama3: 57/164, entropy: 3.2169\n",
      "llama3.1: 91/164, entropy: 2.9190\n",
      "llama3.1: 91/164, entropy: 2.9190\n",
      "llama3.1: 90/164, entropy: 2.9190\n",
      "mistral-nemo: 58/164, entropy: 2.9634\n",
      "mistral-nemo: 58/164, entropy: 2.9634\n",
      "mistral-nemo: 56/164, entropy: 2.9634\n",
      "qwen2.5-coder: 106/164, entropy: 1.8344\n",
      "qwen2.5-coder: 107/164, entropy: 1.8344\n",
      "qwen2.5-coder: 108/164, entropy: 1.8344\n"
     ]
    }
   ],
   "source": [
    "for bm in benchmarks:\n",
    "    print(bm)\n",
    "    for model in models:\n",
    "        for mode in modes:\n",
    "            result, entr = vote(\"var_unif\", bm, model)\n",
    "            print(f\"{model}: {result.count(True)}/{len(result)}, entropy: {np.mean(entr):.4f}\")"
   ]
  }
 ],
 "metadata": {
  "kernelspec": {
   "display_name": "Python 3",
   "language": "python",
   "name": "python3"
  },
  "language_info": {
   "codemirror_mode": {
    "name": "ipython",
    "version": 3
   },
   "file_extension": ".py",
   "mimetype": "text/x-python",
   "name": "python",
   "nbconvert_exporter": "python",
   "pygments_lexer": "ipython3",
   "version": "3.12.10"
  }
 },
 "nbformat": 4,
 "nbformat_minor": 2
}
