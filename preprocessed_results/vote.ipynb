{
 "cells": [
  {
   "cell_type": "code",
   "execution_count": 1,
   "metadata": {},
   "outputs": [],
   "source": [
    "import os\n",
    "import json\n",
    "import random\n",
    "import numpy as np"
   ]
  },
  {
   "cell_type": "code",
   "execution_count": 2,
   "metadata": {},
   "outputs": [],
   "source": [
    "benchmarks = [\"APPS\", \"HumanEval\"]\n",
    "models = [\"llama3\", \"llama3.1\", \"mistral-nemo\", \"qwen2.5-coder\"]\n",
    "modes = [None, \"instruction\", \"rule\"]"
   ]
  },
  {
   "cell_type": "code",
   "execution_count": 3,
   "metadata": {},
   "outputs": [],
   "source": [
    "def tie_break(data):\n",
    "    ties = [i for i in data if i[1][0] == data[0][1][0]]\n",
    "    return random.choice(ties)\n",
    "\n",
    "def get_entropy(data):\n",
    "    probs = np.array(data)[:, 0].astype(float)\n",
    "    probs = probs / np.sum(probs)\n",
    "    entropy = -np.sum(probs * np.log2(probs))\n",
    "    return entropy\n",
    "\n",
    "def vote(mode, benchmark, model, prompt_mode=None):\n",
    "    if not prompt_mode:\n",
    "        with open(f\"./preprocessed_results/{mode}/{benchmark}_{model}.json\", \"r\") as f:\n",
    "            data =json.load(f)\n",
    "    if prompt_mode:\n",
    "        with open(f\"./preprocessed_results/{mode}/{benchmark}_{model}_{prompt_mode}.json\", \"r\") as f:\n",
    "            data =json.load(f)\n",
    "    result = []\n",
    "    entropy = []\n",
    "\n",
    "    for problem_id, samples in data.items():\n",
    "        sample_dict = dict()\n",
    "        for sample in samples:\n",
    "            if sample[0] not in sample_dict:\n",
    "                sample_dict[sample[0]] = [1, sample[1][\"result\"]]\n",
    "            elif sample[0] in sample_dict:\n",
    "                sample_dict[sample[0]][0] += 1\n",
    "        major = sorted(sample_dict.items(), key=lambda x:x[1][0], reverse=True)\n",
    "        entropy.append(get_entropy(list(sample_dict.values())))\n",
    "        if \"passed\" in tie_break(major)[1][1]:\n",
    "            result.append(True)\n",
    "        else:\n",
    "            result.append(False)\n",
    "        \n",
    "    return result, entropy"
   ]
  },
  {
   "cell_type": "markdown",
   "metadata": {},
   "source": [
    "## Augmented"
   ]
  },
  {
   "cell_type": "code",
   "execution_count": 4,
   "metadata": {},
   "outputs": [
    {
     "name": "stdout",
     "output_type": "stream",
     "text": [
      "APPS\n",
      "llama3: 20/300, entropy: 4.2075\n",
      "llama3: 22/300, entropy: 4.2065\n",
      "llama3: 19/300, entropy: 4.2756\n",
      "llama3.1: 17/300, entropy: 4.2119\n",
      "llama3.1: 9/300, entropy: 4.2453\n",
      "llama3.1: 3/300, entropy: 4.3203\n",
      "mistral-nemo: 32/300, entropy: 4.2141\n",
      "mistral-nemo: 29/300, entropy: 4.2324\n",
      "mistral-nemo: 17/300, entropy: 4.2609\n",
      "qwen2.5-coder: 18/300, entropy: 4.1487\n",
      "qwen2.5-coder: 16/300, entropy: 4.1856\n",
      "qwen2.5-coder: 5/300, entropy: 4.2735\n",
      "HumanEval\n",
      "llama3: 56/164, entropy: 3.5220\n",
      "llama3: 49/164, entropy: 3.7288\n",
      "llama3: 25/164, entropy: 4.0742\n",
      "llama3.1: 88/164, entropy: 3.2418\n",
      "llama3.1: 80/164, entropy: 3.4414\n",
      "llama3.1: 54/164, entropy: 4.1726\n",
      "mistral-nemo: 55/164, entropy: 3.2060\n",
      "mistral-nemo: 56/164, entropy: 3.4040\n",
      "mistral-nemo: 43/164, entropy: 3.8630\n",
      "qwen2.5-coder: 106/164, entropy: 2.2601\n",
      "qwen2.5-coder: 123/164, entropy: 2.2092\n",
      "qwen2.5-coder: 119/164, entropy: 2.9665\n"
     ]
    }
   ],
   "source": [
    "for bm in benchmarks:\n",
    "    print(bm)\n",
    "    for model in models:\n",
    "        for mode in modes:\n",
    "            if not mode:\n",
    "                result, entr = vote(\"augmented\", bm, model + \"_augmented\")\n",
    "            if mode:\n",
    "                result, entr = vote(\"augmented\", bm, model, mode + \"_augmented\")\n",
    "            print(f\"{model}: {result.count(True)}/{len(result)}, entropy: {np.mean(entr):.4f}\")"
   ]
  },
  {
   "cell_type": "markdown",
   "metadata": {},
   "source": [
    "## AST-only"
   ]
  },
  {
   "cell_type": "code",
   "execution_count": 5,
   "metadata": {},
   "outputs": [
    {
     "name": "stdout",
     "output_type": "stream",
     "text": [
      "APPS\n",
      "llama3: 18/300, entropy: 4.1782\n",
      "llama3: 21/300, entropy: 4.2031\n",
      "llama3: 18/300, entropy: 4.2745\n",
      "llama3.1: 18/300, entropy: 4.1933\n",
      "llama3.1: 11/300, entropy: 4.2374\n",
      "llama3.1: 3/300, entropy: 4.3193\n",
      "mistral-nemo: 28/300, entropy: 4.1939\n",
      "mistral-nemo: 32/300, entropy: 4.2112\n",
      "mistral-nemo: 18/300, entropy: 4.2504\n",
      "qwen2.5-coder: 18/300, entropy: 4.1335\n",
      "qwen2.5-coder: 15/300, entropy: 4.1765\n",
      "qwen2.5-coder: 6/300, entropy: 4.2696\n",
      "HumanEval\n",
      "llama3: 62/164, entropy: 3.3802\n",
      "llama3: 53/164, entropy: 3.6280\n",
      "llama3: 24/164, entropy: 4.0433\n",
      "llama3.1: 87/164, entropy: 3.1383\n",
      "llama3.1: 81/164, entropy: 3.3463\n",
      "llama3.1: 54/164, entropy: 4.1527\n",
      "mistral-nemo: 59/164, entropy: 3.0822\n",
      "mistral-nemo: 58/164, entropy: 3.2893\n",
      "mistral-nemo: 51/164, entropy: 3.7295\n",
      "qwen2.5-coder: 108/164, entropy: 2.0959\n",
      "qwen2.5-coder: 126/164, entropy: 2.0695\n",
      "qwen2.5-coder: 119/164, entropy: 2.7535\n"
     ]
    }
   ],
   "source": [
    "for bm in benchmarks:\n",
    "    print(bm)\n",
    "    for model in models:\n",
    "        for mode in modes:\n",
    "            result, entr = vote(\"ast_only\", bm, model, mode)\n",
    "            print(f\"{model}: {result.count(True)}/{len(result)}, entropy: {np.mean(entr):.4f}\")"
   ]
  },
  {
   "cell_type": "markdown",
   "metadata": {},
   "source": [
    "## Variable Unified"
   ]
  },
  {
   "cell_type": "code",
   "execution_count": 6,
   "metadata": {},
   "outputs": [
    {
     "name": "stdout",
     "output_type": "stream",
     "text": [
      "APPS\n",
      "llama3: 20/300, entropy: 4.1645\n",
      "llama3: 18/300, entropy: 4.2031\n",
      "llama3: 17/300, entropy: 4.2681\n",
      "llama3.1: 20/300, entropy: 4.1611\n",
      "llama3.1: 11/300, entropy: 4.2222\n",
      "llama3.1: 4/300, entropy: 4.3185\n",
      "mistral-nemo: 34/300, entropy: 4.1611\n",
      "mistral-nemo: 32/300, entropy: 4.1831\n",
      "mistral-nemo: 21/300, entropy: 4.2401\n",
      "qwen2.5-coder: 22/300, entropy: 4.1175\n",
      "qwen2.5-coder: 20/300, entropy: 4.1660\n",
      "qwen2.5-coder: 8/300, entropy: 4.2640\n",
      "HumanEval\n",
      "llama3: 63/164, entropy: 3.2169\n",
      "llama3: 51/164, entropy: 3.5087\n",
      "llama3: 32/164, entropy: 3.8887\n",
      "llama3.1: 91/164, entropy: 2.9190\n",
      "llama3.1: 85/164, entropy: 3.1593\n",
      "llama3.1: 58/164, entropy: 3.9874\n",
      "mistral-nemo: 57/164, entropy: 2.9634\n",
      "mistral-nemo: 62/164, entropy: 3.2047\n",
      "mistral-nemo: 62/164, entropy: 3.5518\n",
      "qwen2.5-coder: 108/164, entropy: 1.8344\n",
      "qwen2.5-coder: 127/164, entropy: 1.7788\n",
      "qwen2.5-coder: 123/164, entropy: 2.3531\n"
     ]
    }
   ],
   "source": [
    "for bm in benchmarks:\n",
    "    print(bm)\n",
    "    for model in models:\n",
    "        for mode in modes:\n",
    "            result, entr = vote(\"var_unif\", bm, model, mode)\n",
    "            print(f\"{model}: {result.count(True)}/{len(result)}, entropy: {np.mean(entr):.4f}\")"
   ]
  }
 ],
 "metadata": {
  "kernelspec": {
   "display_name": "Python 3",
   "language": "python",
   "name": "python3"
  },
  "language_info": {
   "codemirror_mode": {
    "name": "ipython",
    "version": 3
   },
   "file_extension": ".py",
   "mimetype": "text/x-python",
   "name": "python",
   "nbconvert_exporter": "python",
   "pygments_lexer": "ipython3",
   "version": "3.9.1"
  }
 },
 "nbformat": 4,
 "nbformat_minor": 2
}
